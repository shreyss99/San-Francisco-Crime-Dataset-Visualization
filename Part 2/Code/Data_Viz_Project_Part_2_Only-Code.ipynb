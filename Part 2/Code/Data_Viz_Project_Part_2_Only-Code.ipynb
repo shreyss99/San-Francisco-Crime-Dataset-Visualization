{
 "cells": [
  {
   "cell_type": "code",
   "execution_count": null,
   "metadata": {
    "colab": {
     "base_uri": "https://localhost:8080/"
    },
    "id": "2b6e6728",
    "outputId": "ab7c9cb2-3369-4287-cf1c-e08b223e1785"
   },
   "outputs": [],
   "source": [
    "!pip install geopandas\n",
    "!pip install contextily\n",
    "!pip install seaborn as sns\n",
    "!pip install folium\n",
    "!pip install sodapy\n",
    "!pip install cartopy\n",
    "\n",
    "import zipfile\n",
    "import geopandas as gpd\n",
    "import contextily as ctx\n",
    "from shapely.geometry import Point\n",
    "import pandas as pd\n",
    "import folium\n",
    "import numpy as np\n",
    "import matplotlib.pyplot as plt\n",
    "import datetime\n",
    "import matplotlib.dates as mdates\n",
    "import seaborn as sns\n",
    "import plotly.express as px\n",
    "import pandas as pd\n",
    "from sodapy import Socrata\n",
    "import string\n",
    "import cartopy\n",
    "import cartopy.crs as crs"
   ]
  },
  {
   "cell_type": "code",
   "execution_count": null,
   "metadata": {
    "colab": {
     "base_uri": "https://localhost:8080/"
    },
    "id": "4bead58d",
    "outputId": "12a22fae-f747-4856-8766-72e63370feeb"
   },
   "outputs": [],
   "source": [
    "#!/usr/bin/env python\n",
    "\n",
    "# Unauthenticated client only works with public data sets. Note 'None'\n",
    "# in place of application token, and no username or password:\n",
    "client = Socrata(\"data.sfgov.org\", None)\n",
    "\n",
    "results = client.get(\"wg3w-h783\", limit=1000000)\n",
    "\n",
    "# Convert to pandas DataFrame\n",
    "df1 = pd.DataFrame.from_records(results)\n",
    "df = df1"
   ]
  },
  {
   "cell_type": "code",
   "execution_count": null,
   "metadata": {
    "colab": {
     "base_uri": "https://localhost:8080/"
    },
    "id": "11272565",
    "outputId": "14094612-8014-43e0-ccd5-46c9e00b6ca0"
   },
   "outputs": [],
   "source": [
    "df.columns"
   ]
  },
  {
   "cell_type": "code",
   "execution_count": null,
   "metadata": {
    "id": "efb5d530"
   },
   "outputs": [],
   "source": [
    "df.drop(columns=[':@computed_region_jwn9_ihcz', ':@computed_region_26cr_cadq', ':@computed_region_qgnn_b9vv',\n",
    "                ':@computed_region_nqbw_i6c3', ':@computed_region_h4ep_8xdi',':@computed_region_n4xg_c4py',\n",
    "                ':@computed_region_jg9y_a9du', 'point'], inplace = True)"
   ]
  },
  {
   "cell_type": "code",
   "execution_count": null,
   "metadata": {
    "id": "48bda722"
   },
   "outputs": [],
   "source": [
    "df['incident_datetime']=pd.to_datetime(df['incident_datetime'], errors = 'coerce')\n",
    "df['incident_year']=pd.to_datetime(df['incident_year'], errors = 'coerce')\n",
    "df['incident_date']=pd.to_datetime(df['incident_date'], errors = 'coerce')\n",
    "df['report_datetime']=pd.to_datetime(df['report_datetime'], errors = 'coerce')"
   ]
  },
  {
   "cell_type": "code",
   "execution_count": null,
   "metadata": {
    "colab": {
     "base_uri": "https://localhost:8080/"
    },
    "id": "8d2cd938",
    "outputId": "45777b27-f4c7-4b02-fc68-7199e572c1db"
   },
   "outputs": [],
   "source": [
    "df.dtypes"
   ]
  },
  {
   "cell_type": "code",
   "execution_count": null,
   "metadata": {
    "id": "3ac11f4e"
   },
   "outputs": [],
   "source": [
    "def o_str(value):\n",
    "    return str(value)"
   ]
  },
  {
   "cell_type": "code",
   "execution_count": null,
   "metadata": {
    "id": "a95d148e"
   },
   "outputs": [],
   "source": [
    "def o_date(value):\n",
    "    return str(value)"
   ]
  },
  {
   "cell_type": "code",
   "execution_count": null,
   "metadata": {
    "id": "b6fc6212"
   },
   "outputs": [],
   "source": [
    "def o_numeric(value):\n",
    "    return float(value)"
   ]
  },
  {
   "cell_type": "code",
   "execution_count": null,
   "metadata": {
    "id": "4228ff27"
   },
   "outputs": [],
   "source": [
    "df['incident_id']=df['incident_id'].apply(o_numeric)\n",
    "df['row_id']=df['row_id'].apply(o_numeric)\n",
    "df['incident_code']=df['incident_code'].apply(o_numeric)\n",
    "df['incident_number']=df['incident_number'].apply(o_numeric)\n",
    "df['cad_number']=df['cad_number'].apply(o_numeric)\n",
    "df['cnn']=df['cnn'].apply(o_numeric)\n",
    "\n",
    "df['report_type_description']=df['report_type_description'].apply(o_str)\n",
    "df['incident_category']=df['incident_category'].apply(o_str)\n",
    "df['incident_subcategory']=df['incident_subcategory'].apply(o_str)\n",
    "df['resolution']=df['resolution'].apply(o_str)\n",
    "df['police_district']=df['police_district'].apply(o_str)\n",
    "df['analysis_neighborhood']=df['analysis_neighborhood'].apply(o_str)\n",
    "\n",
    "df['latitude']=df['latitude'].apply(o_numeric)\n",
    "df['longitude']=df['longitude'].apply(o_numeric)"
   ]
  },
  {
   "cell_type": "code",
   "execution_count": null,
   "metadata": {
    "colab": {
     "base_uri": "https://localhost:8080/"
    },
    "id": "05a2750d",
    "outputId": "ae72eb2c-6766-419a-da6d-9887c08f5456"
   },
   "outputs": [],
   "source": [
    "df.resolution.unique()"
   ]
  },
  {
   "cell_type": "code",
   "execution_count": null,
   "metadata": {
    "colab": {
     "base_uri": "https://localhost:8080/"
    },
    "id": "37be30d1",
    "outputId": "afd97aef-09c7-40e1-8561-072f35589266"
   },
   "outputs": [],
   "source": [
    "df.police_district.unique()"
   ]
  },
  {
   "cell_type": "code",
   "execution_count": null,
   "metadata": {
    "colab": {
     "base_uri": "https://localhost:8080/"
    },
    "id": "640d0c1f",
    "outputId": "172036c4-075a-413f-b2cf-f0e72c6f393f"
   },
   "outputs": [],
   "source": [
    "df.report_type_description.unique()"
   ]
  },
  {
   "cell_type": "code",
   "execution_count": null,
   "metadata": {
    "colab": {
     "base_uri": "https://localhost:8080/"
    },
    "id": "ebef9dad",
    "outputId": "aa0c1be1-5449-41b8-d290-bc0cb73e2924"
   },
   "outputs": [],
   "source": [
    "df.analysis_neighborhood.unique()"
   ]
  },
  {
   "cell_type": "code",
   "execution_count": null,
   "metadata": {
    "id": "af0df636"
   },
   "outputs": [],
   "source": [
    "# Filling in the NA values with In Person, as specified on the website, \n",
    "# any row which does not have Filled Online it is assumed that the complaint was filed in person\n",
    "\n",
    "df['filed_online'].fillna('In Person',inplace = True)"
   ]
  },
  {
   "cell_type": "code",
   "execution_count": null,
   "metadata": {
    "colab": {
     "base_uri": "https://localhost:8080/"
    },
    "id": "524a4197",
    "outputId": "728a8457-d74e-4146-bf72-cd76d2b48e40"
   },
   "outputs": [],
   "source": [
    "df.dtypes"
   ]
  },
  {
   "cell_type": "code",
   "execution_count": null,
   "metadata": {
    "colab": {
     "base_uri": "https://localhost:8080/"
    },
    "id": "eaebc913",
    "outputId": "3d42d679-3449-4478-bc86-61f2d18e5cdc"
   },
   "outputs": [],
   "source": [
    "#Checking null values for each column\n",
    "df.isnull().sum()"
   ]
  },
  {
   "cell_type": "code",
   "execution_count": null,
   "metadata": {
    "id": "fc9fa85e"
   },
   "outputs": [],
   "source": [
    "#Since over 70% of the data is null drop this columns\n",
    "\n",
    "df.cad_number.fillna('0', inplace = True)\n",
    "df.intersection.fillna('0', inplace = True)\n",
    "df.cnn.fillna('0', inplace = True)\n",
    "df.supervisor_district.fillna('0', inplace = True)\n",
    "\n",
    "\n",
    "df['latitude'].fillna(float(df['latitude'].mean()), inplace=True)\n",
    "df['longitude'].fillna(float(df['longitude'].mean()), inplace=True)\n",
    "\n",
    "df.analysis_neighborhood.fillna('0', inplace = True)"
   ]
  },
  {
   "cell_type": "code",
   "execution_count": null,
   "metadata": {
    "colab": {
     "base_uri": "https://localhost:8080/"
    },
    "id": "d4c5b383",
    "outputId": "6e1c0b53-ea6d-40bc-90fa-3f2d86547885"
   },
   "outputs": [],
   "source": [
    "#Reindexing and finding shape of dataframe\n",
    "df.iloc[:].reindex()\n",
    "df.shape"
   ]
  },
  {
   "cell_type": "code",
   "execution_count": null,
   "metadata": {
    "id": "GjjF0yuFR9wq"
   },
   "outputs": [],
   "source": [
    "df.rename(columns={'incident_category': 'Incident Category'}, inplace = True)"
   ]
  },
  {
   "cell_type": "markdown",
   "metadata": {},
   "source": [
    "## This graph shows us the Count for Number of Crimes occuring in the SFO region based on Days"
   ]
  },
  {
   "cell_type": "code",
   "execution_count": null,
   "metadata": {
    "colab": {
     "base_uri": "https://localhost:8080/",
     "height": 876
    },
    "id": "ubSfVEzB91Ax",
    "outputId": "b5952e45-6bdf-4a44-e565-2d124406f071"
   },
   "outputs": [],
   "source": [
    "# Barplot showing major crimes in San Francisco\n",
    "\n",
    "plt.rcParams['figure.figsize'] = (20, 9)\n",
    "plt.style.use('fast')\n",
    "sns.countplot(df['Incident Category'], palette = 'hot')\n",
    "\n",
    "plt.title('Major Crimes in San Francisco', fontweight = 20, fontsize = 20)\n",
    "plt.xticks(rotation = 90)\n",
    "plt.show()"
   ]
  },
  {
   "cell_type": "markdown",
   "metadata": {},
   "source": [
    "## Distribution of crimes in San Francisco as per days of week"
   ]
  },
  {
   "cell_type": "code",
   "execution_count": null,
   "metadata": {
    "colab": {
     "base_uri": "https://localhost:8080/",
     "height": 610
    },
    "id": "4gjkOE9ap-Bg",
    "outputId": "3c2c236a-0dc3-40a7-ce13-4f103bf6a200"
   },
   "outputs": [],
   "source": [
    "# Distribution of crimes in San Francisco as per days of week\n",
    "\n",
    "df['incident_day_of_week'].value_counts().plot.pie(figsize = (10, 20), explode = (0.1, 0.1, 0.1, 0.1, 0.1, 0.1, 0.1), autopct='%1.1f%%')\n",
    "plt.axis('off')\n",
    "plt.title('Crime count on each day',fontsize = 20)\n",
    "centre_circle = plt.Circle((0,0),0.6,fc='white')\n",
    "fig = plt.gcf()\n",
    "fig.gca().add_artist(centre_circle)\n",
    "plt.xticks(rotation = 90)\n",
    "plt.show()"
   ]
  },
  {
   "cell_type": "code",
   "execution_count": null,
   "metadata": {
    "colab": {
     "base_uri": "https://localhost:8080/",
     "height": 394
    },
    "id": "sZsWc4T4vbC_",
    "outputId": "1b5ee7c9-5084-416a-cd89-b65b1bf5212d"
   },
   "outputs": [],
   "source": [
    "\n",
    "# Get a count of the crimes by neighborhood, returns a series\n",
    "crime_neighbourhood = df.police_district.value_counts()\n",
    "# Stick it into a data frame.\n",
    "neighbour_df = pd.DataFrame(crime_neighbourhood)\n",
    "\n",
    "# Set up the data frame with the required structure.\n",
    "neighbour_df.index.name = 'Neighborhood'\n",
    "neighbour_df.reset_index(inplace=True)\n",
    "neighbour_df.rename(columns={'police_district': 'No of Crimes'}, inplace=True)\n",
    "neighbour_df"
   ]
  },
  {
   "cell_type": "markdown",
   "metadata": {},
   "source": [
    "## Distribution of Number of Crimes that has occured over the period of last 4 years"
   ]
  },
  {
   "cell_type": "code",
   "execution_count": null,
   "metadata": {
    "colab": {
     "base_uri": "https://localhost:8080/",
     "height": 424
    },
    "id": "UbSKmk91ENOy",
    "outputId": "8762e396-e97f-4438-e300-af05b1905d4b"
   },
   "outputs": [],
   "source": [
    "x = df.groupby(['Incident Category', 'incident_year'])[['incident_year']].count()\n",
    "x.rename(columns={\"incident_year\":\"count\"}, inplace=True)\n",
    "crime_by_years = x.reset_index()\n",
    "crime_by_years"
   ]
  },
  {
   "cell_type": "code",
   "execution_count": null,
   "metadata": {
    "id": "sMsKsgqBG2t-"
   },
   "outputs": [],
   "source": [
    "df['Incident Category'] = df['Incident Category'].replace(['Motor Vehicle Theft?', 'Other Miscellaneous', 'Other Offenses', 'Weapons Offence'], \n",
    "                                                          ['Motor Vehicle Theft', 'Other', 'Other', 'Weapons Offense'])\n",
    "\n",
    "df['incident_subcategory'] = df['incident_subcategory'].replace(['Motor Vehicle Theft?', 'Other Miscellaneous', 'Other Offenses', 'Weapons Offence'], \n",
    "                                                          ['Motor Vehicle Theft', 'Other', 'Other', 'Weapons Offense'])"
   ]
  },
  {
   "cell_type": "code",
   "execution_count": null,
   "metadata": {
    "colab": {
     "base_uri": "https://localhost:8080/",
     "height": 542
    },
    "id": "FJGAiVoNG5NS",
    "outputId": "8b36e5f2-8750-4c39-93c0-07aaf1776ec9"
   },
   "outputs": [],
   "source": [
    "fig = px.bar(crime_by_years, x='incident_year', y='count', color='Incident Category', \n",
    "            title=\"Counts of crimes according to categories grouped over the years\",\n",
    "            labels={'incident_year':'Year', 'count':'Count of crimes'})\n",
    "fig.show('notebook')"
   ]
  },
  {
   "cell_type": "markdown",
   "metadata": {},
   "source": [
    "## Average delay time between the Incident happening and the Report time"
   ]
  },
  {
   "cell_type": "code",
   "execution_count": null,
   "metadata": {
    "colab": {
     "base_uri": "https://localhost:8080/",
     "height": 424
    },
    "id": "lNkT9mPKHBKV",
    "outputId": "61372542-52d6-41bf-caf4-587e6c73fd68"
   },
   "outputs": [],
   "source": [
    "df['time_difference'] = round(((df['report_datetime'] - df['incident_datetime']).dt.total_seconds() / 60 / 60 / 24),0)\n",
    "df[['time_difference']]"
   ]
  },
  {
   "cell_type": "code",
   "execution_count": null,
   "metadata": {
    "colab": {
     "base_uri": "https://localhost:8080/",
     "height": 206
    },
    "id": "SoArftp1HY_i",
    "outputId": "068e38d2-49a3-4380-f39e-522adc389a83"
   },
   "outputs": [],
   "source": [
    "x = df.groupby(['incident_year'])['time_difference'].mean()\n",
    "time_diff_by_year = x.reset_index()\n",
    "time_diff_by_year"
   ]
  },
  {
   "cell_type": "code",
   "execution_count": null,
   "metadata": {
    "colab": {
     "base_uri": "https://localhost:8080/",
     "height": 542
    },
    "id": "M0JdWajTHb_n",
    "outputId": "c0a3febf-952c-44fa-da59-37abb468a3e1",
    "scrolled": true
   },
   "outputs": [],
   "source": [
    "fig = px.line(time_diff_by_year, x='incident_year', y='time_difference',\n",
    "              title=\"Average Time difference between incident and report time in days over the years\",\n",
    "              labels={'incident_year':'Year', 'time_difference':'Time difference in days'})\n",
    "fig.show()"
   ]
  },
  {
   "cell_type": "markdown",
   "metadata": {},
   "source": [
    "## Bargraph showing distribution of incidences as per the time of its occurance"
   ]
  },
  {
   "cell_type": "code",
   "execution_count": null,
   "metadata": {
    "id": "N-F1Vl9hHX3S"
   },
   "outputs": [],
   "source": [
    "df['incident_time']=df['incident_time'].astype('string')"
   ]
  },
  {
   "cell_type": "code",
   "execution_count": null,
   "metadata": {
    "id": "6ooX7KzO_RKB"
   },
   "outputs": [],
   "source": [
    "df['incident_time']=df['incident_time'].str.split(':',expand=True)[0]\n",
    "df['incident_time']=df['incident_time'].astype(int)"
   ]
  },
  {
   "cell_type": "code",
   "execution_count": null,
   "metadata": {
    "colab": {
     "base_uri": "https://localhost:8080/"
    },
    "id": "RYi44n6LyPAC",
    "outputId": "ba73daeb-dbd4-4537-ab9a-00f8445679b9"
   },
   "outputs": [],
   "source": [
    "df['incident_time_category']='null'\n",
    "df['incident_time_category'].dtypes"
   ]
  },
  {
   "cell_type": "code",
   "execution_count": null,
   "metadata": {
    "id": "aErVrVED2Q0z"
   },
   "outputs": [],
   "source": [
    "# 00.00 - 06.00 : Early Morning, 6.01 - 12.00 : Morning, 12.01 - 18.00 : Evening, 18.01 - 24.00 : Night"
   ]
  },
  {
   "cell_type": "code",
   "execution_count": null,
   "metadata": {
    "id": "1vCbzc_KqWLu"
   },
   "outputs": [],
   "source": [
    "def category(x):\n",
    "    if 0<=x<=6:\n",
    "        return 'Early Morning'\n",
    "    elif 6<x<=12:\n",
    "        return 'Morning'\n",
    "    elif 12<x<=18:\n",
    "        return 'Evening'\n",
    "    elif 18<x<24:\n",
    "        return 'Night'"
   ]
  },
  {
   "cell_type": "code",
   "execution_count": null,
   "metadata": {
    "id": "VM91V8yEqWaP"
   },
   "outputs": [],
   "source": [
    "df['incident_time_category'] = df['incident_time'].apply(category)"
   ]
  },
  {
   "cell_type": "code",
   "execution_count": null,
   "metadata": {
    "colab": {
     "base_uri": "https://localhost:8080/",
     "height": 300
    },
    "id": "7hFo8ovvqdZM",
    "outputId": "3c082e34-7f60-45ed-ff32-459f86620a0b"
   },
   "outputs": [],
   "source": [
    "df_count = df.groupby(['incident_time_category']).count()\n",
    "df_count"
   ]
  },
  {
   "cell_type": "code",
   "execution_count": null,
   "metadata": {
    "colab": {
     "base_uri": "https://localhost:8080/",
     "height": 560
    },
    "id": "SlKguJJtqdiB",
    "outputId": "4fb84a87-a0a4-41a1-e53b-ca60f0da710e"
   },
   "outputs": [],
   "source": [
    "df_count = df.groupby(['incident_time_category']).count()\n",
    "df_num=pd.DataFrame(df_count)\n",
    "df_num.reset_index(inplace=True)\n",
    "\n",
    "fig = plt.figure(figsize = (10, 7))\n",
    "fig = px.bar(df_num.sort_values( 'incident_time',ascending = False), \n",
    "            x='incident_time_category', \n",
    "            y='incident_time',\n",
    "            labels = {\"incident_time_category\":\"Time when the incident occured\", \"incident_time\":\"Number of incidences\" }, \n",
    "            title = \"Distribution of incidences as per the time of its occurance\",\n",
    "            color='incident_time_category', \n",
    "            color_discrete_map={'Evening': 'red','Night': 'blue','Morning': 'green','Early Morning': 'orange'})\n",
    "\n",
    "fig.show()"
   ]
  },
  {
   "cell_type": "markdown",
   "metadata": {
    "id": "tfKHFu0MX5rL"
   },
   "source": [
    "Most of the incidents take place in the evening (between 12.01 to 18.00 hours) followed by night (between 18.01 to 24.00 hours), morning (between 06.01 to 12.00 hours) and early morning (between 00.00 to 06.00 hours)."
   ]
  },
  {
   "cell_type": "code",
   "execution_count": null,
   "metadata": {
    "id": "h8DBTzznllUk"
   },
   "outputs": [],
   "source": [
    "df2 = df.groupby(['Incident Category','incident_subcategory']).count().reset_index()\n",
    "df2.rename(columns = {'incident_id':'count'}, inplace = True)\n",
    "df2"
   ]
  },
  {
   "cell_type": "markdown",
   "metadata": {
    "id": "VW8m7HtsXbU8"
   },
   "source": [
    "## Heat Map to understand which category has the most number of crimes"
   ]
  },
  {
   "cell_type": "code",
   "execution_count": null,
   "metadata": {
    "colab": {
     "base_uri": "https://localhost:8080/",
     "height": 542
    },
    "id": "PuI-KCAOmACK",
    "outputId": "a265e6e0-96b8-491e-dc7e-3d5183162466",
    "scrolled": true
   },
   "outputs": [],
   "source": [
    "fig = px.treemap(df2, path=[px.Constant(\"all\"), 'Incident Category', 'incident_subcategory'], values='count')\n",
    "fig.update_traces(root_color=\"lightgrey\")\n",
    "fig.update_layout(margin = dict(t=50, l=25, r=25, b=25))\n",
    "fig.show()"
   ]
  },
  {
   "cell_type": "markdown",
   "metadata": {},
   "source": [
    "## Incident Hotspots on the map of San Francisco"
   ]
  },
  {
   "cell_type": "code",
   "execution_count": null,
   "metadata": {
    "id": "D0fPWQD4mCwo"
   },
   "outputs": [],
   "source": [
    "fig, ax = plt.subplots(figsize=(35,35))\n",
    "ax = plt.axes(projection=crs.PlateCarree())\n",
    "ax.coastlines()\n",
    "ax.set_extent([-122.6, -122.3, 37.68, 37.85])\n",
    "ax.gridlines(draw_labels=True)\n",
    "\n",
    "plt.scatter(x=df.longitude, y=df.latitude, \n",
    "            color=\"red\", s=20, transform=crs.PlateCarree())\n",
    "\n",
    "plt.show()"
   ]
  },
  {
   "cell_type": "code",
   "execution_count": null,
   "metadata": {
    "id": "WMd2rA7UmfPv"
   },
   "outputs": [],
   "source": [
    "# Get a count of the crimes by neighborhood, returns a series\n",
    "crime_neighbourhood = df.police_district.value_counts()\n",
    "# Stick it into a data frame.\n",
    "neighbour_df = pd.DataFrame(crime_neighbourhood)\n",
    "\n",
    "# Set up the data frame with the required structure.\n",
    "neighbour_df.index.name = 'neighborhood'\n",
    "neighbour_df.reset_index(inplace=True)\n",
    "neighbour_df.rename(columns={'police_district': 'No of Crimes'}, inplace=True)\n",
    "neighbour_df"
   ]
  },
  {
   "cell_type": "markdown",
   "metadata": {},
   "source": [
    "## San Francisco Map using Folium"
   ]
  },
  {
   "cell_type": "code",
   "execution_count": null,
   "metadata": {
    "colab": {
     "base_uri": "https://localhost:8080/",
     "height": 808
    },
    "id": "-hMsAL_KmgoU",
    "outputId": "cb252ce3-9691-46f7-8c61-73de80d36358",
    "scrolled": true
   },
   "outputs": [],
   "source": [
    "# San Francisco latitude and longitude values\n",
    "lat = 37.77\n",
    "long = -122.42\n",
    "\n",
    "# Create map using folium\n",
    "sf1_map = folium.Map(location=[lat, long], zoom_start=12)\n",
    "\n",
    "# display the map of San Francisco\n",
    "sf1_map"
   ]
  },
  {
   "cell_type": "markdown",
   "metadata": {},
   "source": [
    "## Plotting Neighbourhoods on San Francisco Map"
   ]
  },
  {
   "cell_type": "code",
   "execution_count": null,
   "metadata": {
    "id": "q1C0Te-Dmi5g"
   },
   "outputs": [],
   "source": [
    "# Read in the geojson file with the neighborhoods and lat/long \n",
    "#sf_geo  = r'SanFrancisco.Neighborhoods.json'\n",
    "sf_geo = r\"https://cocl.us/sanfran_geojson\"\n",
    "\n",
    "# Create the map, centered on San Francisco with zoom level 12. \n",
    "SF_map = folium.Map(location=[37.7749, -122.4194], zoom_start=12)\n",
    "\n",
    "# Add the choropleth to the map, with the wanted options.\n",
    "SF_map.choropleth(\n",
    "    geo_data=sf_geo,\n",
    "    name='Choropleth',\n",
    "    data = neighbour_df,\n",
    "    columns=['neighborhood','No of Crimes'], \n",
    "    key_on='feature.properties.DISTRICT', \n",
    "    fill_color = 'YlOrRd',\n",
    "    fill_opacity = 0.7,\n",
    "    line_opacity = 0.2,\n",
    "    legend_name = 'Crimes in SF'\n",
    ")\n",
    "\n",
    "# creating a state indexed version of the dataframe so we can lookup values\n",
    "# neighbor_index = neighbour_df.set_index('neighborhood')\n",
    "  \n",
    "# looping thru the geojson object and adding a new property(unemployment)\n",
    "# and assigning a value from our dataframe\n",
    "# for s in cp.geojson.data['features']:\n",
    "#     s['properties']['unemployment'] = state_data_indexed.loc[s['id'], 'Unemployment']\n",
    "  \n",
    "#   # and finally adding a tooltip/hover to the choropleth's geojson\n",
    "# folium.GeoJsonTooltip(['name', 'unemployment']).add_to(cp.geojson)\n",
    "  \n",
    "# folium.LayerControl().add_to(m)\n",
    "\n",
    "# folium.LayerControl().add_to(SF_map)\n",
    "SF_map"
   ]
  },
  {
   "cell_type": "markdown",
   "metadata": {
    "id": "EImun9w-Nwh0"
   },
   "source": [
    "References\n",
    "\n",
    " - https://stackoverflow.com/questions/70471888/text-as-tooltip-popup-or-labels-in-folium-choropleth-geojson-polygons\n",
    "\n",
    " - https://stackoverflow.com/questions/46223224/matplotlib-plot-countplot-for-two-or-more-column-on-single-plot\n",
    "\n",
    " - https://matplotlib.org/stable/tutorials/introductory/customizing.html\n",
    "\n",
    " - https://medium.com/@kvnamiparaa-better-visualisation-of-pie-charts-by-matplotlib-935b7667d77f\n",
    "\n",
    " - https://scitools.org.uk/cartopy/docs/latest/matplotlib/feature_interface.html\n",
    " \n",
    " - https://plotly.com/python/bar-charts/"
   ]
  }
 ],
 "metadata": {
  "colab": {
   "provenance": []
  },
  "kernelspec": {
   "display_name": "Python 3",
   "language": "python",
   "name": "python3"
  },
  "language_info": {
   "codemirror_mode": {
    "name": "ipython",
    "version": 3
   },
   "file_extension": ".py",
   "mimetype": "text/x-python",
   "name": "python",
   "nbconvert_exporter": "python",
   "pygments_lexer": "ipython3",
   "version": "3.8.5"
  }
 },
 "nbformat": 4,
 "nbformat_minor": 5
}
